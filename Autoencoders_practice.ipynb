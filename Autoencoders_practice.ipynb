{
  "nbformat": 4,
  "nbformat_minor": 0,
  "metadata": {
    "colab": {
      "name": "Autoencoders_practice.ipynb",
      "version": "0.3.2",
      "provenance": [],
      "include_colab_link": true
    },
    "kernelspec": {
      "name": "python3",
      "display_name": "Python 3"
    },
    "accelerator": "GPU"
  },
  "cells": [
    {
      "cell_type": "markdown",
      "metadata": {
        "id": "view-in-github",
        "colab_type": "text"
      },
      "source": [
        "<a href=\"https://colab.research.google.com/github/atal5/ML_DL_CLASS/blob/master/Autoencoders_practice.ipynb\" target=\"_parent\"><img src=\"https://colab.research.google.com/assets/colab-badge.svg\" alt=\"Open In Colab\"/></a>"
      ]
    },
    {
      "cell_type": "code",
      "metadata": {
        "id": "mLcWDT9FGv2T",
        "colab_type": "code",
        "colab": {}
      },
      "source": [
        "%matplotlib inline\n",
        "import matplotlib.pyplot as plt\n",
        "plt.rcParams['figure.figsize'] = (8, 6)\n",
        "\n",
        "import numpy as np\n",
        "np.random.seed(123)"
      ],
      "execution_count": 0,
      "outputs": []
    },
    {
      "cell_type": "code",
      "metadata": {
        "id": "awN4TgmBG_fx",
        "colab_type": "code",
        "colab": {
          "base_uri": "https://localhost:8080/",
          "height": 124
        },
        "outputId": "e153aa88-6569-4016-9f8f-c32469229681"
      },
      "source": [
        "#Load data and normalize them\n",
        "from keras.datasets import mnist\n",
        "\n",
        "(X_train, y_train), (X_test, y_test) = mnist.load_data()\n",
        "print(X_train.max(),X_train.min())\n",
        "\n",
        "X_train = X_train.astype('float32') / 255.0\n",
        "X_test = X_test.astype('float32') / 255.0\n",
        "\n",
        "print(X_train.shape, y_train.shape)"
      ],
      "execution_count": 2,
      "outputs": [
        {
          "output_type": "stream",
          "text": [
            "Using TensorFlow backend.\n"
          ],
          "name": "stderr"
        },
        {
          "output_type": "stream",
          "text": [
            "Downloading data from https://s3.amazonaws.com/img-datasets/mnist.npz\n",
            "11493376/11490434 [==============================] - 1s 0us/step\n",
            "255 0\n",
            "(60000, 28, 28) (60000,)\n"
          ],
          "name": "stdout"
        }
      ]
    },
    {
      "cell_type": "code",
      "metadata": {
        "id": "isBm4zyKHKcw",
        "colab_type": "code",
        "colab": {
          "base_uri": "https://localhost:8080/",
          "height": 395
        },
        "outputId": "1e007758-96ef-488b-ee96-bc7092684d73"
      },
      "source": [
        "plt.imshow(X_train[0],cmap='Greys')"
      ],
      "execution_count": 3,
      "outputs": [
        {
          "output_type": "execute_result",
          "data": {
            "text/plain": [
              "<matplotlib.image.AxesImage at 0x7f525d856668>"
            ]
          },
          "metadata": {
            "tags": []
          },
          "execution_count": 3
        },
        {
          "output_type": "display_data",
          "data": {
            "image/png": "[encoded data removed]",
            "text/plain": [
              "<Figure size 576x432 with 1 Axes>"
            ]
          },
          "metadata": {
            "tags": []
          }
        }
      ]
    },
    {
      "cell_type": "markdown",
      "metadata": {
        "id": "6apOyhzoHRnF",
        "colab_type": "text"
      },
      "source": [
        "## Stacked Autoencoder"
      ]
    },
    {
      "cell_type": "code",
      "metadata": {
        "id": "8zDX_pniHRR1",
        "colab_type": "code",
        "colab": {}
      },
      "source": [
        "from keras.layers import Dense, Input, Flatten, Reshape\n",
        "from keras.models import Model\n",
        "from keras.optimizers import Adam\n",
        "from keras import regularizers"
      ],
      "execution_count": 0,
      "outputs": []
    },
    {
      "cell_type": "code",
      "metadata": {
        "id": "SgXb_3dDHLCO",
        "colab_type": "code",
        "colab": {}
      },
      "source": [
        "input_shape = X_train.shape[1:]\n",
        "n_hidden1 = 300\n",
        "n_hidden2 = 150  # codings\n",
        "n_hidden3 = n_hidden1\n",
        "learning_rate = 0.01\n",
        "l2_reg = 0.0001"
      ],
      "execution_count": 0,
      "outputs": []
    },
    {
      "cell_type": "code",
      "metadata": {
        "id": "hy2ihIynHiyn",
        "colab_type": "code",
        "colab": {
          "base_uri": "https://localhost:8080/",
          "height": 89
        },
        "outputId": "736773ff-6a00-4e80-d71f-fdb7c13da538"
      },
      "source": [
        "# for encoder1\n",
        "input_tensor = Input(shape=input_shape)\n",
        "flattened = Flatten()(input_tensor)\n",
        "hidden1 = Dense(n_hidden1, activation='elu', kernel_initializer='he_normal', \n",
        "                kernel_regularizer=regularizers.l2(l2_reg))(flattened)\n",
        "print('input_tensor: ',input_tensor)\n",
        "print('flattened: ',flattened)\n",
        "print('hidden1: ',hidden1)"
      ],
      "execution_count": 7,
      "outputs": [
        {
          "output_type": "stream",
          "text": [
            "input_tensor:  Tensor(\"input_2:0\", shape=(?, 28, 28), dtype=float32)\n",
            "flattened:  Tensor(\"flatten_2/Reshape:0\", shape=(?, ?), dtype=float32)\n",
            "hidden1:  Tensor(\"dense_2/Elu:0\", shape=(?, 300), dtype=float32)\n"
          ],
          "name": "stdout"
        }
      ]
    },
    {
      "cell_type": "code",
      "metadata": {
        "id": "7LArS6KHHxTb",
        "colab_type": "code",
        "colab": {
          "base_uri": "https://localhost:8080/",
          "height": 52
        },
        "outputId": "f4fc984e-f6f5-4a9e-e0aa-fb54d835592c"
      },
      "source": [
        "# for encoder2\n",
        "input_enc2 = Input(shape=(n_hidden1,))\n",
        "hidden2 = Dense(n_hidden2, activation='elu', kernel_initializer='he_normal', \n",
        "                kernel_regularizer=regularizers.l2(l2_reg))(input_enc2)\n",
        "print('input_enc2: ',input_enc2)\n",
        "print('hidden2: ',hidden2)"
      ],
      "execution_count": 8,
      "outputs": [
        {
          "output_type": "stream",
          "text": [
            "input_enc2:  Tensor(\"input_3:0\", shape=(?, 300), dtype=float32)\n",
            "hidden2:  Tensor(\"dense_3/Elu:0\", shape=(?, 150), dtype=float32)\n"
          ],
          "name": "stdout"
        }
      ]
    },
    {
      "cell_type": "code",
      "metadata": {
        "id": "2zzCS6LOIYDN",
        "colab_type": "code",
        "colab": {
          "base_uri": "https://localhost:8080/",
          "height": 52
        },
        "outputId": "493ce0d4-b8d4-4982-c48e-121e495b3427"
      },
      "source": [
        "# for decoder2\n",
        "input_dec2 = Input(shape=(n_hidden2,))\n",
        "hidden3 = Dense(n_hidden3, activation='elu', kernel_initializer='he_normal', \n",
        "                kernel_regularizer=regularizers.l2(l2_reg))(input_dec2)\n",
        "print('input_dec2: ',input_dec2)\n",
        "print('hidden3: ',hidden3)"
      ],
      "execution_count": 9,
      "outputs": [
        {
          "output_type": "stream",
          "text": [
            "input_dec2:  Tensor(\"input_4:0\", shape=(?, 150), dtype=float32)\n",
            "hidden3:  Tensor(\"dense_4/Elu:0\", shape=(?, 300), dtype=float32)\n"
          ],
          "name": "stdout"
        }
      ]
    },
    {
      "cell_type": "code",
      "metadata": {
        "id": "Fob9SK6NIb8C",
        "colab_type": "code",
        "colab": {
          "base_uri": "https://localhost:8080/",
          "height": 89
        },
        "outputId": "2dde7155-8ff9-427f-e52e-e5b38abec1dc"
      },
      "source": [
        "input_dec1 = Input(shape=(n_hidden1,))\n",
        "flattened_outputs = Dense(np.prod(input_shape), activation='sigmoid', kernel_initializer='he_normal', \n",
        "                          kernel_regularizer=regularizers.l2(l2_reg))(input_dec1)\n",
        "outputs = Reshape(input_shape)(flattened_outputs)\n",
        "print('input_dec1: ',input_dec1)\n",
        "print('flattened_outputs: ',flattened_outputs)\n",
        "print('outputs: ',outputs)"
      ],
      "execution_count": 10,
      "outputs": [
        {
          "output_type": "stream",
          "text": [
            "input_dec1:  Tensor(\"input_5:0\", shape=(?, 300), dtype=float32)\n",
            "flattened_outputs:  Tensor(\"dense_5/Sigmoid:0\", shape=(?, 784), dtype=float32)\n",
            "outputs:  Tensor(\"reshape_1/Reshape:0\", shape=(?, 28, 28), dtype=float32)\n"
          ],
          "name": "stdout"
        }
      ]
    },
    {
      "cell_type": "code",
      "metadata": {
        "id": "VyV8C41UIg4r",
        "colab_type": "code",
        "colab": {}
      },
      "source": [
        "from keras.utils import plot_model"
      ],
      "execution_count": 0,
      "outputs": []
    },
    {
      "cell_type": "code",
      "metadata": {
        "id": "YcWKg2DnIohF",
        "colab_type": "code",
        "colab": {}
      },
      "source": [
        "# encoder\n",
        "encoder1 = Model(input_tensor, hidden1, name='encoder_1')\n",
        "encoder2 = Model(input_enc2, hidden2, name='encoder_2')\n",
        "encoder = Model(input_tensor, encoder2(encoder1(input_tensor)), name='encoder')\n",
        "plot_model(encoder1, to_file='encoder1.png',show_shapes=True,show_layer_names=True)\n",
        "plot_model(encoder2, to_file='encoder2.png',show_shapes=True,show_layer_names=True)\n",
        "plot_model(encoder, to_file='encoder.png',show_shapes=True,show_layer_names=True)"
      ],
      "execution_count": 0,
      "outputs": []
    },
    {
      "cell_type": "markdown",
      "metadata": {
        "id": "GUes0AGHI34O",
        "colab_type": "text"
      },
      "source": [
        ""
      ]
    },
    {
      "cell_type": "code",
      "metadata": {
        "id": "_cMZr5dKIvxu",
        "colab_type": "code",
        "colab": {
          "base_uri": "https://localhost:8080/",
          "height": 124
        },
        "outputId": "ba0e0e03-cf7d-436e-fdfa-6e0deb6c32fa"
      },
      "source": [
        "!ls"
      ],
      "execution_count": 13,
      "outputs": [
        {
          "output_type": "stream",
          "text": [
            "'documents-MachineLearning_iLykei-DeepLearningModels-sales-of-shampoo-over-a-three-ye.csv?token=ALLJKZG4OLJ4WO7RPM3CIAC46WV6U'\n",
            " encoder1.png\n",
            " encoder2.png\n",
            " encoder.png\n",
            " sample_data\n"
          ],
          "name": "stdout"
        }
      ]
    },
    {
      "cell_type": "code",
      "metadata": {
        "id": "rI_NhpEzLvVh",
        "colab_type": "code",
        "colab": {}
      },
      "source": [
        "# decoder\n",
        "decoder2 = Model(input_dec2, hidden3, name='decoder_2')\n",
        "decoder1 = Model(input_dec1, outputs, name='decoder_1')\n",
        "decoder = Model(input_dec2, decoder1(decoder2(input_dec2)), name='decoder')\n",
        "plot_model(decoder2, to_file='decoder2.png',show_shapes=True,show_layer_names=True)\n",
        "plot_model(decoder1, to_file='decoder1.png',show_shapes=True,show_layer_names=True)\n",
        "plot_model(decoder, to_file='decoder.png',show_shapes=True,show_layer_names=True)"
      ],
      "execution_count": 0,
      "outputs": []
    },
    {
      "cell_type": "markdown",
      "metadata": {
        "id": "3r_781xBMTd0",
        "colab_type": "text"
      },
      "source": [
        "## Autoencoder assembled"
      ]
    },
    {
      "cell_type": "code",
      "metadata": {
        "id": "XT2byR2UMPlo",
        "colab_type": "code",
        "colab": {}
      },
      "source": [
        "# autoencoder\n",
        "autoencoder = Model(input_tensor, decoder(encoder(input_tensor)), name='autoencoder')\n",
        "plot_model(autoencoder, to_file='autoencoder.png',show_shapes=True,show_layer_names=True)"
      ],
      "execution_count": 0,
      "outputs": []
    },
    {
      "cell_type": "code",
      "metadata": {
        "id": "Y1DQUpltMZ2Q",
        "colab_type": "code",
        "colab": {
          "base_uri": "https://localhost:8080/",
          "height": 242
        },
        "outputId": "9fb5ed21-ce03-401c-8ed2-2c458cfd2729"
      },
      "source": [
        "autoencoder.compile(optimizer=Adam(learning_rate), loss='binary_crossentropy')\n",
        "autoencoder.save_weights('ae_initial_weights.h5') # save initial weights (to re-produce results in the next sections)\n",
        "autoencoder.summary()"
      ],
      "execution_count": 16,
      "outputs": [
        {
          "output_type": "stream",
          "text": [
            "_________________________________________________________________\n",
            "Layer (type)                 Output Shape              Param #   \n",
            "=================================================================\n",
            "input_2 (InputLayer)         (None, 28, 28)            0         \n",
            "_________________________________________________________________\n",
            "encoder (Model)              (None, 150)               280650    \n",
            "_________________________________________________________________\n",
            "decoder (Model)              (None, 28, 28)            281284    \n",
            "=================================================================\n",
            "Total params: 561,934\n",
            "Trainable params: 561,934\n",
            "Non-trainable params: 0\n",
            "_________________________________________________________________\n"
          ],
          "name": "stdout"
        }
      ]
    },
    {
      "cell_type": "markdown",
      "metadata": {
        "id": "naRNBVdVMkFy",
        "colab_type": "text"
      },
      "source": [
        "### Train Autoencoder"
      ]
    },
    {
      "cell_type": "code",
      "metadata": {
        "id": "2O3teihSMfko",
        "colab_type": "code",
        "colab": {
          "base_uri": "https://localhost:8080/",
          "height": 262
        },
        "outputId": "f157737d-4e55-4a1a-f15c-9e3c88c80d42"
      },
      "source": [
        "n_epochs = 4\n",
        "batch_size = 150\n",
        "\n",
        "autoencoder.fit(X_train, X_train,\n",
        "                epochs=n_epochs,\n",
        "                batch_size=batch_size,\n",
        "                validation_data=(X_test, X_test))"
      ],
      "execution_count": 17,
      "outputs": [
        {
          "output_type": "stream",
          "text": [
            "WARNING:tensorflow:From /usr/local/lib/python3.6/dist-packages/tensorflow/python/ops/math_ops.py:3066: to_int32 (from tensorflow.python.ops.math_ops) is deprecated and will be removed in a future version.\n",
            "Instructions for updating:\n",
            "Use tf.cast instead.\n",
            "Train on 60000 samples, validate on 10000 samples\n",
            "Epoch 1/4\n",
            "60000/60000 [==============================] - 3s 43us/step - loss: 0.2193 - val_loss: 0.1512\n",
            "Epoch 2/4\n",
            "60000/60000 [==============================] - 2s 30us/step - loss: 0.1510 - val_loss: 0.1550\n",
            "Epoch 3/4\n",
            "60000/60000 [==============================] - 2s 30us/step - loss: 0.1498 - val_loss: 0.1470\n",
            "Epoch 4/4\n",
            "60000/60000 [==============================] - 2s 30us/step - loss: 0.1482 - val_loss: 0.1452\n"
          ],
          "name": "stdout"
        },
        {
          "output_type": "execute_result",
          "data": {
            "text/plain": [
              "<keras.callbacks.History at 0x7f5259f58518>"
            ]
          },
          "metadata": {
            "tags": []
          },
          "execution_count": 17
        }
      ]
    },
    {
      "cell_type": "code",
      "metadata": {
        "id": "CwExq60uMoIM",
        "colab_type": "code",
        "colab": {
          "base_uri": "https://localhost:8080/",
          "height": 539
        },
        "outputId": "75fe0a12-6cdf-47ce-af73-28b5788db4ac"
      },
      "source": [
        "n_test_digits = 3\n",
        "\n",
        "imgs = X_test[:n_test_digits]\n",
        "reconstructed_imgs = autoencoder.predict(imgs)\n",
        "\n",
        "\n",
        "def plot_imgs(*args, n_imgs=None):\n",
        "    n_cols = len(args)\n",
        "    if n_imgs is None:\n",
        "        n_imgs = args[0].shape[0]\n",
        "    fig = plt.figure(figsize=(3 * n_cols, 3 * n_imgs))\n",
        "    for row in range(n_imgs):\n",
        "        for col in range(n_cols):\n",
        "            plt.subplot(n_imgs, n_cols, row * n_cols + col + 1)\n",
        "            plt.imshow(args[col][row], cmap='Greys', interpolation='nearest')\n",
        "            plt.axis('off')\n",
        "\n",
        "\n",
        "plot_imgs(imgs, reconstructed_imgs)"
      ],
      "execution_count": 19,
      "outputs": [
        {
          "output_type": "display_data",
          "data": {
            "image/png": "[encoded data removed]",
            "text/plain": [
              "<Figure size 432x648 with 6 Axes>"
            ]
          },
          "metadata": {
            "tags": []
          }
        }
      ]
    },
    {
      "cell_type": "code",
      "metadata": {
        "id": "YQ1itCSZM9BC",
        "colab_type": "code",
        "colab": {}
      },
      "source": [
        "autoencoder.load_weights('ae_initial_weights.h5')"
      ],
      "execution_count": 0,
      "outputs": []
    },
    {
      "cell_type": "code",
      "metadata": {
        "id": "7ICrbPOmOeRB",
        "colab_type": "code",
        "colab": {
          "base_uri": "https://localhost:8080/",
          "height": 539
        },
        "outputId": "0834a282-f552-4be0-e69b-017cef7d47f6"
      },
      "source": [
        "n_test_digits = 3\n",
        "imgs = X_test[:n_test_digits]\n",
        "reconstructed_imgs = autoencoder.predict(imgs)\n",
        "plot_imgs(imgs, reconstructed_imgs)"
      ],
      "execution_count": 21,
      "outputs": [
        {
          "output_type": "display_data",
          "data": {
            "image/png": "[encoded data removed]",
            "text/plain": [
              "<Figure size 432x648 with 6 Axes>"
            ]
          },
          "metadata": {
            "tags": []
          }
        }
      ]
    },
    {
      "cell_type": "code",
      "metadata": {
        "id": "G-pzGXsmOjT1",
        "colab_type": "code",
        "colab": {}
      },
      "source": [
        "autoencoder1 = Model(input_tensor, decoder1(encoder1(input_tensor)), name='autoencoder_1')\n",
        "autoencoder1.compile(optimizer=Adam(learning_rate), loss='binary_crossentropy')\n",
        "plot_model(autoencoder1, to_file='autoencoder1.png',show_shapes=True,show_layer_names=True)"
      ],
      "execution_count": 0,
      "outputs": []
    },
    {
      "cell_type": "code",
      "metadata": {
        "id": "PbifzKZTOoKt",
        "colab_type": "code",
        "colab": {
          "base_uri": "https://localhost:8080/",
          "height": 210
        },
        "outputId": "9f4e685a-ee62-4414-86c8-09923f4eec82"
      },
      "source": [
        "n_epochs = 4\n",
        "batch_size = 150\n",
        "\n",
        "autoencoder1.fit(X_train, X_train,\n",
        "                 epochs=n_epochs,\n",
        "                 batch_size=batch_size,\n",
        "                 validation_data=(X_test, X_test))"
      ],
      "execution_count": 23,
      "outputs": [
        {
          "output_type": "stream",
          "text": [
            "Train on 60000 samples, validate on 10000 samples\n",
            "Epoch 1/4\n",
            "60000/60000 [==============================] - 2s 33us/step - loss: 0.1844 - val_loss: 0.1585\n",
            "Epoch 2/4\n",
            "60000/60000 [==============================] - 2s 26us/step - loss: 0.1570 - val_loss: 0.1534\n",
            "Epoch 3/4\n",
            "60000/60000 [==============================] - 2s 26us/step - loss: 0.1549 - val_loss: 0.1528\n",
            "Epoch 4/4\n",
            "60000/60000 [==============================] - 2s 26us/step - loss: 0.1542 - val_loss: 0.1526\n"
          ],
          "name": "stdout"
        },
        {
          "output_type": "execute_result",
          "data": {
            "text/plain": [
              "<keras.callbacks.History at 0x7f525a6a87b8>"
            ]
          },
          "metadata": {
            "tags": []
          },
          "execution_count": 23
        }
      ]
    },
    {
      "cell_type": "code",
      "metadata": {
        "id": "cD5rIrDqOzNx",
        "colab_type": "code",
        "colab": {
          "base_uri": "https://localhost:8080/",
          "height": 35
        },
        "outputId": "74ce19b3-76db-4d9e-f413-49d6a701d26e"
      },
      "source": [
        "X_train_intermediate = encoder1.predict(X_train)\n",
        "X_test_intermediate = encoder1.predict(X_test)\n",
        "X_train_intermediate.shape,X_test_intermediate.shape"
      ],
      "execution_count": 24,
      "outputs": [
        {
          "output_type": "execute_result",
          "data": {
            "text/plain": [
              "((60000, 300), (10000, 300))"
            ]
          },
          "metadata": {
            "tags": []
          },
          "execution_count": 24
        }
      ]
    },
    {
      "cell_type": "code",
      "metadata": {
        "id": "sNq3UzjTO7LJ",
        "colab_type": "code",
        "colab": {}
      },
      "source": [
        "autoencoder2 = Model(input_enc2, decoder2(encoder2(input_enc2)), name='autoencoder_2')\n",
        "autoencoder2.compile(optimizer=Adam(learning_rate), loss='mse')\n",
        "plot_model(autoencoder2, to_file='autoencoder2.png',show_shapes=True,show_layer_names=True)"
      ],
      "execution_count": 0,
      "outputs": []
    },
    {
      "cell_type": "code",
      "metadata": {
        "id": "B3iTqdunO9yR",
        "colab_type": "code",
        "colab": {
          "base_uri": "https://localhost:8080/",
          "height": 210
        },
        "outputId": "a00a11c8-c3dd-489b-b431-e97dfd3e6887"
      },
      "source": [
        "n_epochs = 4\n",
        "batch_size = 150\n",
        "\n",
        "autoencoder2.fit(X_train_intermediate, X_train_intermediate,\n",
        "                 epochs=n_epochs,\n",
        "                 batch_size=batch_size,\n",
        "                 validation_data=(X_test_intermediate, X_test_intermediate))"
      ],
      "execution_count": 26,
      "outputs": [
        {
          "output_type": "stream",
          "text": [
            "Train on 60000 samples, validate on 10000 samples\n",
            "Epoch 1/4\n",
            "60000/60000 [==============================] - 2s 26us/step - loss: 0.1833 - val_loss: 0.0376\n",
            "Epoch 2/4\n",
            "60000/60000 [==============================] - 1s 22us/step - loss: 0.0307 - val_loss: 0.0340\n",
            "Epoch 3/4\n",
            "60000/60000 [==============================] - 1s 21us/step - loss: 0.0264 - val_loss: 0.0281\n",
            "Epoch 4/4\n",
            "60000/60000 [==============================] - 1s 20us/step - loss: 0.0195 - val_loss: 0.0176\n"
          ],
          "name": "stdout"
        },
        {
          "output_type": "execute_result",
          "data": {
            "text/plain": [
              "<keras.callbacks.History at 0x7f523e56f5f8>"
            ]
          },
          "metadata": {
            "tags": []
          },
          "execution_count": 26
        }
      ]
    },
    {
      "cell_type": "code",
      "metadata": {
        "id": "j1xhb1GMPCJF",
        "colab_type": "code",
        "colab": {
          "base_uri": "https://localhost:8080/",
          "height": 539
        },
        "outputId": "3ce6807e-310e-4ded-95a4-c74686843343"
      },
      "source": [
        "n_test_digits = 3\n",
        "\n",
        "imgs = X_test[:n_test_digits]\n",
        "reconstructed_imgs = autoencoder.predict(imgs)\n",
        "\n",
        "plot_imgs(imgs, reconstructed_imgs)"
      ],
      "execution_count": 27,
      "outputs": [
        {
          "output_type": "display_data",
          "data": {
            "image/png": "[encoded data removed]",
            "text/plain": [
              "<Figure size 432x648 with 6 Axes>"
            ]
          },
          "metadata": {
            "tags": []
          }
        }
      ]
    },
    {
      "cell_type": "code",
      "metadata": {
        "id": "9iVR_glePJhr",
        "colab_type": "code",
        "colab": {
          "base_uri": "https://localhost:8080/",
          "height": 35
        },
        "outputId": "f906c567-1e2a-4195-a492-228d0f7e3e4f"
      },
      "source": [
        "w = encoder1.get_weights()[0]\n",
        "w.shape"
      ],
      "execution_count": 28,
      "outputs": [
        {
          "output_type": "execute_result",
          "data": {
            "text/plain": [
              "(784, 300)"
            ]
          },
          "metadata": {
            "tags": []
          },
          "execution_count": 28
        }
      ]
    },
    {
      "cell_type": "code",
      "metadata": {
        "id": "GwNEm1pZPO2_",
        "colab_type": "code",
        "colab": {
          "base_uri": "https://localhost:8080/",
          "height": 324
        },
        "outputId": "e24530e3-9edb-4252-fa04-4ebd1ed757dd"
      },
      "source": [
        "R, C = 5, 5  # rows, columns\n",
        "plt.figure(figsize=(R, C))\n",
        "for i in range(R*C):\n",
        "    plt.subplot(R, C, i + 1)\n",
        "    plt.imshow(w[:,i].reshape((28, 28)), cmap='Greys', interpolation='nearest')\n",
        "    plt.axis('off')"
      ],
      "execution_count": 29,
      "outputs": [
        {
          "output_type": "display_data",
          "data": {
            "image/png": "[encoded data removed]",
            "text/plain": [
              "<Figure size 360x360 with 25 Axes>"
            ]
          },
          "metadata": {
            "tags": []
          }
        }
      ]
    },
    {
      "cell_type": "markdown",
      "metadata": {
        "id": "Vm7fO9mjPVd_",
        "colab_type": "text"
      },
      "source": [
        "## Unsupervised pretraining for supervised problem"
      ]
    },
    {
      "cell_type": "code",
      "metadata": {
        "id": "NUcyi0RJPSoH",
        "colab_type": "code",
        "colab": {
          "base_uri": "https://localhost:8080/",
          "height": 35
        },
        "outputId": "4d70c3e9-7528-4e5b-921c-77ec8433ed7b"
      },
      "source": [
        "X_train_codings = encoder.predict(X_train)\n",
        "X_test_codings = encoder.predict(X_test)\n",
        "print(X_train_codings.shape, X_test_codings.shape)"
      ],
      "execution_count": 30,
      "outputs": [
        {
          "output_type": "stream",
          "text": [
            "(60000, 150) (10000, 150)\n"
          ],
          "name": "stdout"
        }
      ]
    },
    {
      "cell_type": "code",
      "metadata": {
        "id": "UW3Nd-mgPdyV",
        "colab_type": "code",
        "colab": {
          "base_uri": "https://localhost:8080/",
          "height": 207
        },
        "outputId": "133f4a59-155a-4c76-b4b8-af6a04d79908"
      },
      "source": [
        "input_classifier = Input(shape=(n_hidden2,))\n",
        "softmax_predictions = Dense(10, activation='softmax', kernel_initializer='he_normal',\n",
        "                            kernel_regularizer=regularizers.l2(l2_reg))(input_classifier)\n",
        "\n",
        "classifier = Model(inputs=input_classifier, outputs=softmax_predictions, name='classifier')\n",
        "\n",
        "classifier.compile(optimizer=Adam(learning_rate), loss='sparse_categorical_crossentropy', metrics=['accuracy'])\n",
        "classifier.summary()"
      ],
      "execution_count": 31,
      "outputs": [
        {
          "output_type": "stream",
          "text": [
            "_________________________________________________________________\n",
            "Layer (type)                 Output Shape              Param #   \n",
            "=================================================================\n",
            "input_6 (InputLayer)         (None, 150)               0         \n",
            "_________________________________________________________________\n",
            "dense_6 (Dense)              (None, 10)                1510      \n",
            "=================================================================\n",
            "Total params: 1,510\n",
            "Trainable params: 1,510\n",
            "Non-trainable params: 0\n",
            "_________________________________________________________________\n"
          ],
          "name": "stdout"
        }
      ]
    },
    {
      "cell_type": "code",
      "metadata": {
        "id": "9iOaEDrSPjYu",
        "colab_type": "code",
        "colab": {
          "base_uri": "https://localhost:8080/",
          "height": 210
        },
        "outputId": "8da2dfda-b9b8-4f79-e38e-b0b8efab4a7a"
      },
      "source": [
        "n_epochs = 4\n",
        "batch_size = 150\n",
        "\n",
        "classifier.fit(X_train_codings, y_train,\n",
        "               epochs=n_epochs,\n",
        "               batch_size=batch_size,\n",
        "               validation_data=(X_train_codings, y_train))"
      ],
      "execution_count": 32,
      "outputs": [
        {
          "output_type": "stream",
          "text": [
            "Train on 60000 samples, validate on 60000 samples\n",
            "Epoch 1/4\n",
            "60000/60000 [==============================] - 2s 27us/step - loss: 0.4535 - acc: 0.8651 - val_loss: 0.3444 - val_acc: 0.9003\n",
            "Epoch 2/4\n",
            "60000/60000 [==============================] - 1s 24us/step - loss: 0.3416 - acc: 0.9011 - val_loss: 0.3512 - val_acc: 0.8945\n",
            "Epoch 3/4\n",
            "60000/60000 [==============================] - 1s 24us/step - loss: 0.3289 - acc: 0.9059 - val_loss: 0.3208 - val_acc: 0.9081\n",
            "Epoch 4/4\n",
            "60000/60000 [==============================] - 2s 25us/step - loss: 0.3226 - acc: 0.9079 - val_loss: 0.3112 - val_acc: 0.9118\n"
          ],
          "name": "stdout"
        },
        {
          "output_type": "execute_result",
          "data": {
            "text/plain": [
              "<keras.callbacks.History at 0x7f5259fcd240>"
            ]
          },
          "metadata": {
            "tags": []
          },
          "execution_count": 32
        }
      ]
    },
    {
      "cell_type": "code",
      "metadata": {
        "id": "lb-O0oKSPnsW",
        "colab_type": "code",
        "colab": {
          "base_uri": "https://localhost:8080/",
          "height": 155
        },
        "outputId": "68335c26-c454-4cc2-85d1-a03c8338d006"
      },
      "source": [
        "import pandas as pd\n",
        "y_test_predictions = classifier.predict(X_test_codings)\n",
        "print('Class probabilities: \\n',pd.DataFrame(y_test_predictions[:5]).round(2))\n",
        "print('Actual: ',y_test[:5])"
      ],
      "execution_count": 33,
      "outputs": [
        {
          "output_type": "stream",
          "text": [
            "Class probabilities: \n",
            "      0     1     2     3     4     5    6    7    8     9\n",
            "0  0.0  0.00  0.00  0.00  0.00  0.00  0.0  1.0  0.0  0.00\n",
            "1  0.0  0.00  0.85  0.02  0.00  0.02  0.1  0.0  0.0  0.00\n",
            "2  0.0  0.99  0.00  0.00  0.00  0.00  0.0  0.0  0.0  0.00\n",
            "3  1.0  0.00  0.00  0.00  0.00  0.00  0.0  0.0  0.0  0.00\n",
            "4  0.0  0.00  0.00  0.00  0.93  0.00  0.0  0.0  0.0  0.06\n",
            "Actual:  [7 2 1 0 4]\n"
          ],
          "name": "stdout"
        }
      ]
    },
    {
      "cell_type": "markdown",
      "metadata": {
        "id": "Xwc6Ita9P05q",
        "colab_type": "text"
      },
      "source": [
        "## Stacked Denoising Autoencoder"
      ]
    },
    {
      "cell_type": "code",
      "metadata": {
        "id": "PqU7CXQQPuxd",
        "colab_type": "code",
        "colab": {}
      },
      "source": [
        "autoencoder.load_weights('ae_initial_weights.h5')  # load initial weights\n",
        "\n",
        "import keras.backend as K\n",
        "from keras.layers import Lambda\n",
        "\n",
        "\n",
        "def add_noise(x, noise_level = 0.5):\n",
        "    x = x + K.random_normal(shape=K.shape(x), stddev=noise_level)\n",
        "    x = K.clip(x, 0., 1.)  # assure 0 <= x <= 1\n",
        "    return x\n",
        "\n",
        "\n",
        "noised_img = Lambda(add_noise)(input_tensor)\n",
        "noiser = Model(input_tensor, noised_img, name='noiser')\n",
        "denoiser = Model(input_tensor, autoencoder(noiser(input_tensor)), name='denoiser')\n",
        "\n",
        "denoiser.compile(optimizer=Adam(learning_rate), loss='binary_crossentropy')"
      ],
      "execution_count": 0,
      "outputs": []
    },
    {
      "cell_type": "code",
      "metadata": {
        "id": "vl9oOcTzYKGs",
        "colab_type": "code",
        "colab": {
          "base_uri": "https://localhost:8080/",
          "height": 210
        },
        "outputId": "724e015d-2c66-48fa-c0cb-c13273c6b201"
      },
      "source": [
        "n_epochs = 4\n",
        "batch_size = 150\n",
        "\n",
        "denoiser.fit(X_train, X_train,\n",
        "             epochs=n_epochs, batch_size=batch_size,\n",
        "             validation_data=(X_test, X_test))"
      ],
      "execution_count": 35,
      "outputs": [
        {
          "output_type": "stream",
          "text": [
            "Train on 60000 samples, validate on 10000 samples\n",
            "Epoch 1/4\n",
            "60000/60000 [==============================] - 3s 43us/step - loss: 0.2732 - val_loss: 0.1883\n",
            "Epoch 2/4\n",
            "60000/60000 [==============================] - 2s 33us/step - loss: 0.1854 - val_loss: 0.1816\n",
            "Epoch 3/4\n",
            "60000/60000 [==============================] - 2s 34us/step - loss: 0.1825 - val_loss: 0.1832\n",
            "Epoch 4/4\n",
            "60000/60000 [==============================] - 2s 34us/step - loss: 0.1812 - val_loss: 0.1791\n"
          ],
          "name": "stdout"
        },
        {
          "output_type": "execute_result",
          "data": {
            "text/plain": [
              "<keras.callbacks.History at 0x7f522d34aa20>"
            ]
          },
          "metadata": {
            "tags": []
          },
          "execution_count": 35
        }
      ]
    },
    {
      "cell_type": "code",
      "metadata": {
        "id": "kFqDn3GLYMz8",
        "colab_type": "code",
        "colab": {
          "base_uri": "https://localhost:8080/",
          "height": 539
        },
        "outputId": "79ecabde-bc21-424b-bdda-18396bbc1edd"
      },
      "source": [
        "n = 3\n",
        "\n",
        "imgs = X_test[:n]\n",
        "noised_imgs = noiser.predict(imgs)\n",
        "denoised_imgs = autoencoder.predict(noised_imgs)\n",
        "\n",
        "plot_imgs(imgs, noised_imgs, denoised_imgs)"
      ],
      "execution_count": 36,
      "outputs": [
        {
          "output_type": "display_data",
          "data": {
            "image/png": "[encoded data removed]",
            "text/plain": [
              "<Figure size 648x648 with 9 Axes>"
            ]
          },
          "metadata": {
            "tags": []
          }
        }
      ]
    },
    {
      "cell_type": "markdown",
      "metadata": {
        "id": "dH1za22BYZGD",
        "colab_type": "text"
      },
      "source": [
        "## Dropout Noise"
      ]
    },
    {
      "cell_type": "code",
      "metadata": {
        "id": "1q-8URycYWTf",
        "colab_type": "code",
        "colab": {
          "base_uri": "https://localhost:8080/",
          "height": 89
        },
        "outputId": "1ffbf212-70b2-4474-a687-f662d0b50220"
      },
      "source": [
        "autoencoder.load_weights('ae_initial_weights.h5')  # reload initial weights\n",
        "\n",
        "from keras.layers import Dropout\n",
        "\n",
        "dropout_rate = 0.8  # drop ~80% (!!!) of pixels\n",
        "dropout_img = Dropout(rate=dropout_rate)(input_tensor, training=True)  # training=True activates dropout during prediction\n",
        "\n",
        "noiser_dropout = Model(input_tensor, dropout_img, name='noiser_dropuot')\n",
        "denoiser_dropout = Model(input_tensor, autoencoder(noiser_dropout(input_tensor)), name='denoiser_dropout')    \n",
        "\n",
        "denoiser_dropout.compile(optimizer=Adam(learning_rate), loss='binary_crossentropy')"
      ],
      "execution_count": 37,
      "outputs": [
        {
          "output_type": "stream",
          "text": [
            "WARNING:tensorflow:From /usr/local/lib/python3.6/dist-packages/keras/backend/tensorflow_backend.py:3445: calling dropout (from tensorflow.python.ops.nn_ops) with keep_prob is deprecated and will be removed in a future version.\n",
            "Instructions for updating:\n",
            "Please use `rate` instead of `keep_prob`. Rate should be set to `rate = 1 - keep_prob`.\n"
          ],
          "name": "stdout"
        }
      ]
    },
    {
      "cell_type": "code",
      "metadata": {
        "id": "g6k7b_5nYel_",
        "colab_type": "code",
        "colab": {
          "base_uri": "https://localhost:8080/",
          "height": 210
        },
        "outputId": "5dbe9820-eb37-4ac2-a3b8-6577bba68d1f"
      },
      "source": [
        "n_epochs = 4\n",
        "batch_size = 150\n",
        "\n",
        "denoiser_dropout.fit(X_train, X_train,\n",
        "                     epochs=n_epochs, batch_size=batch_size,\n",
        "                     validation_data=(X_test, X_test))"
      ],
      "execution_count": 38,
      "outputs": [
        {
          "output_type": "stream",
          "text": [
            "Train on 60000 samples, validate on 10000 samples\n",
            "Epoch 1/4\n",
            "60000/60000 [==============================] - 3s 46us/step - loss: 0.2498 - val_loss: 0.2025\n",
            "Epoch 2/4\n",
            "60000/60000 [==============================] - 2s 35us/step - loss: 0.2026 - val_loss: 0.1983\n",
            "Epoch 3/4\n",
            "60000/60000 [==============================] - 2s 34us/step - loss: 0.1998 - val_loss: 0.1992\n",
            "Epoch 4/4\n",
            "60000/60000 [==============================] - 2s 33us/step - loss: 0.1989 - val_loss: 0.1972\n"
          ],
          "name": "stdout"
        },
        {
          "output_type": "execute_result",
          "data": {
            "text/plain": [
              "<keras.callbacks.History at 0x7f5250168438>"
            ]
          },
          "metadata": {
            "tags": []
          },
          "execution_count": 38
        }
      ]
    },
    {
      "cell_type": "code",
      "metadata": {
        "id": "aC1hQFxbYh9R",
        "colab_type": "code",
        "colab": {
          "base_uri": "https://localhost:8080/",
          "height": 539
        },
        "outputId": "55d39bda-cde2-4f47-fd54-d8a042f1d154"
      },
      "source": [
        "n = 3\n",
        "\n",
        "imgs = X_test[:n]\n",
        "noised_imgs = noiser_dropout.predict(imgs)\n",
        "denoised_imgs = autoencoder.predict(noised_imgs)\n",
        "\n",
        "plot_imgs(imgs, noised_imgs, denoised_imgs)"
      ],
      "execution_count": 39,
      "outputs": [
        {
          "output_type": "display_data",
          "data": {
            "image/png": "[encoded data removed]",
            "text/plain": [
              "<Figure size 648x648 with 9 Axes>"
            ]
          },
          "metadata": {
            "tags": []
          }
        }
      ]
    },
    {
      "cell_type": "markdown",
      "metadata": {
        "id": "UBTMg88BYwTY",
        "colab_type": "text"
      },
      "source": [
        "## Sparse Autoencoder"
      ]
    },
    {
      "cell_type": "code",
      "metadata": {
        "id": "a6WlyTX3Ylh_",
        "colab_type": "code",
        "colab": {}
      },
      "source": [
        "def create_autoencoder(input_shape, n_hidden1, sparse=True, sparsity_weight=1e-5):\n",
        "    # tensors:\n",
        "    input_tensor = Input(shape=input_shape)\n",
        "    flattened = Flatten()(input_tensor)\n",
        "    regularizer = regularizers.l1(sparsity_weight) if sparse else None\n",
        "    hidden1 = Dense(n_hidden1, activation='relu', kernel_initializer='he_normal', \n",
        "                    activity_regularizer=regularizer)(flattened)\n",
        "    input_decoder = Input(shape=(n_hidden1,))\n",
        "    flattened_outputs = Dense(np.prod(input_shape), activation='sigmoid', \n",
        "                              kernel_initializer='he_normal')(input_decoder)\n",
        "    outputs = Reshape(input_shape)(flattened_outputs)\n",
        "    # models:\n",
        "    encoder = Model(input_tensor, hidden1, name='encoder')\n",
        "    decoder = Model(input_decoder, outputs, name='decoder')\n",
        "    autoencoder = Model(input_tensor, decoder(encoder(input_tensor)), name='autoencoder')\n",
        "    return encoder, decoder, autoencoder\n",
        "\n",
        "\n",
        "input_shape = X_train.shape[1:]\n",
        "n_hidden1 = 300\n",
        "sparsity_weight = 1e-5\n",
        "encoder, decoder, autoencoder = create_autoencoder(input_shape, n_hidden1, sparse=False)\n",
        "s_encoder, s_decoder, s_autoencoder = create_autoencoder(input_shape, n_hidden1, \n",
        "                                                         sparse=True, sparsity_weight=sparsity_weight)"
      ],
      "execution_count": 0,
      "outputs": []
    },
    {
      "cell_type": "code",
      "metadata": {
        "id": "SHnwmKlzYyiA",
        "colab_type": "code",
        "colab": {
          "base_uri": "https://localhost:8080/",
          "height": 242
        },
        "outputId": "f7d6c82a-a947-4de3-8eec-bbd4b601fc90"
      },
      "source": [
        "learning_rate = 0.01\n",
        "autoencoder.compile(optimizer=Adam(learning_rate), loss='binary_crossentropy')\n",
        "s_autoencoder.compile(optimizer=Adam(learning_rate), loss='binary_crossentropy')\n",
        "s_autoencoder.summary()"
      ],
      "execution_count": 41,
      "outputs": [
        {
          "output_type": "stream",
          "text": [
            "_________________________________________________________________\n",
            "Layer (type)                 Output Shape              Param #   \n",
            "=================================================================\n",
            "input_9 (InputLayer)         (None, 28, 28)            0         \n",
            "_________________________________________________________________\n",
            "encoder (Model)              (None, 300)               235500    \n",
            "_________________________________________________________________\n",
            "decoder (Model)              (None, 28, 28)            235984    \n",
            "=================================================================\n",
            "Total params: 471,484\n",
            "Trainable params: 471,484\n",
            "Non-trainable params: 0\n",
            "_________________________________________________________________\n"
          ],
          "name": "stdout"
        }
      ]
    },
    {
      "cell_type": "code",
      "metadata": {
        "id": "i2YPTLOMY0qd",
        "colab_type": "code",
        "colab": {
          "base_uri": "https://localhost:8080/",
          "height": 227
        },
        "outputId": "1ce3767e-2ef8-4550-fba0-27ecdbc8ee20"
      },
      "source": [
        "n_epochs = 2\n",
        "batch_size = 150\n",
        "\n",
        "autoencoder.fit(X_train, X_train,\n",
        "                epochs=n_epochs,\n",
        "                batch_size=batch_size,\n",
        "                validation_data=(X_test, X_test))\n",
        "\n",
        "s_autoencoder.fit(X_train, X_train,\n",
        "                  epochs=n_epochs,\n",
        "                  batch_size=batch_size,\n",
        "                  validation_data=(X_test, X_test))"
      ],
      "execution_count": 42,
      "outputs": [
        {
          "output_type": "stream",
          "text": [
            "Train on 60000 samples, validate on 10000 samples\n",
            "Epoch 1/2\n",
            "60000/60000 [==============================] - 2s 36us/step - loss: 0.0980 - val_loss: 0.0723\n",
            "Epoch 2/2\n",
            "60000/60000 [==============================] - 2s 27us/step - loss: 0.0705 - val_loss: 0.0685\n",
            "Train on 60000 samples, validate on 10000 samples\n",
            "Epoch 1/2\n",
            "60000/60000 [==============================] - 2s 36us/step - loss: 0.1887 - val_loss: 0.1508\n",
            "Epoch 2/2\n",
            "60000/60000 [==============================] - 2s 28us/step - loss: 0.1461 - val_loss: 0.1400\n"
          ],
          "name": "stdout"
        },
        {
          "output_type": "execute_result",
          "data": {
            "text/plain": [
              "<keras.callbacks.History at 0x7f522c636a20>"
            ]
          },
          "metadata": {
            "tags": []
          },
          "execution_count": 42
        }
      ]
    },
    {
      "cell_type": "code",
      "metadata": {
        "id": "Okyvmt3BY8dr",
        "colab_type": "code",
        "colab": {
          "base_uri": "https://localhost:8080/",
          "height": 539
        },
        "outputId": "4e7b2c47-9dde-4b08-fbde-ffec27732cd1"
      },
      "source": [
        "n_test_digits = 3\n",
        "\n",
        "imgs = X_test\n",
        "codings = encoder.predict(imgs)\n",
        "reconstructed_imgs = decoder.predict(codings)\n",
        "sparse_codings = s_encoder.predict(imgs)\n",
        "s_reconstructed_imgs = s_decoder.predict(sparse_codings)\n",
        "\n",
        "plot_imgs(imgs, reconstructed_imgs, s_reconstructed_imgs, n_imgs=n_test_digits)\n"
      ],
      "execution_count": 43,
      "outputs": [
        {
          "output_type": "display_data",
          "data": {
            "image/png": "[encoded data removed]",
            "text/plain": [
              "<Figure size 648x648 with 9 Axes>"
            ]
          },
          "metadata": {
            "tags": []
          }
        }
      ]
    },
    {
      "cell_type": "code",
      "metadata": {
        "id": "Vt2oi73TZB1f",
        "colab_type": "code",
        "colab": {
          "base_uri": "https://localhost:8080/",
          "height": 52
        },
        "outputId": "c7d92d85-2f10-4a65-e08f-028028c61f60"
      },
      "source": [
        "print('Vanilla autoencoder mean-absolute-codings: ', np.mean(np.abs(codings)))\n",
        "print('Sparse  autoencoder mean-absolute-codings: ', np.mean(np.abs(sparse_codings)))"
      ],
      "execution_count": 44,
      "outputs": [
        {
          "output_type": "stream",
          "text": [
            "Vanilla autoencoder mean-absolute-codings:  1.099936\n",
            "Sparse  autoencoder mean-absolute-codings:  0.05033188\n"
          ],
          "name": "stdout"
        }
      ]
    },
    {
      "cell_type": "code",
      "metadata": {
        "id": "uvwKkAvdZFOP",
        "colab_type": "code",
        "colab": {
          "base_uri": "https://localhost:8080/",
          "height": 52
        },
        "outputId": "38e23265-0466-4de9-cf73-7f6ca71c185b"
      },
      "source": [
        "print('Vanilla autoencoder zero fraction: ', np.mean(codings == 0))\n",
        "print('Sparse  autoencoder zero fraction: ', np.mean(sparse_codings == 0))"
      ],
      "execution_count": 45,
      "outputs": [
        {
          "output_type": "stream",
          "text": [
            "Vanilla autoencoder zero fraction:  0.5448166666666666\n",
            "Sparse  autoencoder zero fraction:  0.938652\n"
          ],
          "name": "stdout"
        }
      ]
    },
    {
      "cell_type": "code",
      "metadata": {
        "id": "UNTrmbvoZIUU",
        "colab_type": "code",
        "colab": {}
      },
      "source": [
        ""
      ],
      "execution_count": 0,
      "outputs": []
    }
  ]
}